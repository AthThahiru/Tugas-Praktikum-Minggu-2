{
  "nbformat": 4,
  "nbformat_minor": 0,
  "metadata": {
    "colab": {
      "provenance": [],
      "authorship_tag": "ABX9TyNht2/B232Vkai5J1AXz2gb",
      "include_colab_link": true
    },
    "kernelspec": {
      "name": "python3",
      "display_name": "Python 3"
    },
    "language_info": {
      "name": "python"
    }
  },
  "cells": [
    {
      "cell_type": "markdown",
      "metadata": {
        "id": "view-in-github",
        "colab_type": "text"
      },
      "source": [
        "<a href=\"https://colab.research.google.com/github/AthThahiru/Tugas-Praktikum-Minggu-2/blob/main/Week_02.ipynb\" target=\"_parent\"><img src=\"https://colab.research.google.com/assets/colab-badge.svg\" alt=\"Open In Colab\"/></a>"
      ]
    },
    {
      "cell_type": "markdown",
      "source": [],
      "metadata": {
        "id": "EENUZ1M--Zmk"
      }
    },
    {
      "cell_type": "markdown",
      "source": [
        "## Latihan Minggu 2"
      ],
      "metadata": {
        "id": "yeCG_w7j-okS"
      }
    },
    {
      "cell_type": "code",
      "source": [
        "# Integer\n",
        "11"
      ],
      "metadata": {
        "colab": {
          "base_uri": "https://localhost:8080/"
        },
        "id": "k7_tO_Pm-rr7",
        "outputId": "a200bd4b-1762-4b3d-ab5e-e3acfdf25ac5"
      },
      "execution_count": null,
      "outputs": [
        {
          "output_type": "execute_result",
          "data": {
            "text/plain": [
              "11"
            ]
          },
          "metadata": {},
          "execution_count": 1
        }
      ]
    },
    {
      "cell_type": "code",
      "source": [
        "# Float\n",
        "2.14"
      ],
      "metadata": {
        "colab": {
          "base_uri": "https://localhost:8080/"
        },
        "id": "HrE-iodA-3My",
        "outputId": "fdcda7e1-455b-428e-89b5-e9989ebf7ea1"
      },
      "execution_count": null,
      "outputs": [
        {
          "output_type": "execute_result",
          "data": {
            "text/plain": [
              "2.14"
            ]
          },
          "metadata": {},
          "execution_count": 2
        }
      ]
    },
    {
      "cell_type": "code",
      "source": [
        "# String\n",
        "\"Hallo guyss\""
      ],
      "metadata": {
        "colab": {
          "base_uri": "https://localhost:8080/",
          "height": 35
        },
        "id": "JQqTfkt0-7sk",
        "outputId": "cd510bf5-3548-4117-b137-835bd5b81bc1"
      },
      "execution_count": null,
      "outputs": [
        {
          "output_type": "execute_result",
          "data": {
            "text/plain": [
              "'Hallo guyss'"
            ],
            "application/vnd.google.colaboratory.intrinsic+json": {
              "type": "string"
            }
          },
          "metadata": {},
          "execution_count": 3
        }
      ]
    },
    {
      "cell_type": "code",
      "source": [
        "type(12)\n",
        "# type() untuk mengecek tipe data apa yang sedang kita olah apakah int, str, atau float"
      ],
      "metadata": {
        "colab": {
          "base_uri": "https://localhost:8080/"
        },
        "id": "G-1JgRzk_HJ3",
        "outputId": "c4b33efd-3fc8-457d-f2fe-d245d8655f75"
      },
      "execution_count": null,
      "outputs": [
        {
          "output_type": "execute_result",
          "data": {
            "text/plain": [
              "int"
            ]
          },
          "metadata": {},
          "execution_count": 11
        }
      ]
    },
    {
      "cell_type": "code",
      "source": [
        "type(3.14)\n",
        "# desimal masuk float"
      ],
      "metadata": {
        "colab": {
          "base_uri": "https://localhost:8080/"
        },
        "id": "CeP8_GrC_Wo6",
        "outputId": "0b6aac32-fa72-4f8f-a180-f144c11c9e23"
      },
      "execution_count": null,
      "outputs": [
        {
          "output_type": "execute_result",
          "data": {
            "text/plain": [
              "float"
            ]
          },
          "metadata": {},
          "execution_count": 6
        }
      ]
    },
    {
      "cell_type": "code",
      "source": [
        "type(\"Hello Guys\")\n",
        "# huruf masuk nya ke str"
      ],
      "metadata": {
        "colab": {
          "base_uri": "https://localhost:8080/"
        },
        "id": "X0UEkwdL_aDy",
        "outputId": "6479b544-a0ba-4fda-db28-6cb6e689d8aa"
      },
      "execution_count": null,
      "outputs": [
        {
          "output_type": "execute_result",
          "data": {
            "text/plain": [
              "str"
            ]
          },
          "metadata": {},
          "execution_count": 10
        }
      ]
    },
    {
      "cell_type": "code",
      "source": [
        "type(12.0) # Walaupun bilbul kalau ad . nya dianggap float bkn int"
      ],
      "metadata": {
        "colab": {
          "base_uri": "https://localhost:8080/"
        },
        "id": "4ZusJdb9_kDx",
        "outputId": "196faae1-82d7-4ff9-aa42-84123a990a04"
      },
      "execution_count": null,
      "outputs": [
        {
          "output_type": "execute_result",
          "data": {
            "text/plain": [
              "float"
            ]
          },
          "metadata": {},
          "execution_count": 12
        }
      ]
    },
    {
      "cell_type": "code",
      "source": [
        "type(0)\n",
        "# 0 masuk nya ke int"
      ],
      "metadata": {
        "colab": {
          "base_uri": "https://localhost:8080/"
        },
        "id": "wO0sK3Z6_0zM",
        "outputId": "81501e17-bfce-46f4-dec8-b55bf1514b90"
      },
      "execution_count": null,
      "outputs": [
        {
          "output_type": "execute_result",
          "data": {
            "text/plain": [
              "int"
            ]
          },
          "metadata": {},
          "execution_count": 13
        }
      ]
    },
    {
      "cell_type": "code",
      "source": [
        "type(-2)\n",
        "# negative juga msk nya ke int\n",
        "# intinya int tu bilbul"
      ],
      "metadata": {
        "colab": {
          "base_uri": "https://localhost:8080/"
        },
        "id": "ljopjXv8AINQ",
        "outputId": "cfcada6c-bed4-4bd0-9f35-4f229c7f8c09"
      },
      "execution_count": null,
      "outputs": [
        {
          "output_type": "execute_result",
          "data": {
            "text/plain": [
              "int"
            ]
          },
          "metadata": {},
          "execution_count": 14
        }
      ]
    },
    {
      "cell_type": "code",
      "source": [
        "import sys\n",
        "sys.float_info\n",
        "# untuk mengecek max angka float"
      ],
      "metadata": {
        "colab": {
          "base_uri": "https://localhost:8080/",
          "height": 176
        },
        "id": "4bOIJsFHAOAw",
        "outputId": "82d08689-aa44-4143-a77f-480603efe09f"
      },
      "execution_count": null,
      "outputs": [
        {
          "output_type": "error",
          "ename": "AttributeError",
          "evalue": "module 'sys' has no attribute 'integer_info'",
          "traceback": [
            "\u001b[0;31m---------------------------------------------------------------------------\u001b[0m",
            "\u001b[0;31mAttributeError\u001b[0m                            Traceback (most recent call last)",
            "\u001b[0;32m<ipython-input-24-2c6c86f794ea>\u001b[0m in \u001b[0;36m<cell line: 5>\u001b[0;34m()\u001b[0m\n\u001b[1;32m      3\u001b[0m \u001b[0;31m# untuk mengecek max angka float\u001b[0m\u001b[0;34m\u001b[0m\u001b[0;34m\u001b[0m\u001b[0m\n\u001b[1;32m      4\u001b[0m \u001b[0;32mimport\u001b[0m \u001b[0msys\u001b[0m\u001b[0;34m\u001b[0m\u001b[0;34m\u001b[0m\u001b[0m\n\u001b[0;32m----> 5\u001b[0;31m \u001b[0msys\u001b[0m\u001b[0;34m.\u001b[0m\u001b[0minteger_info\u001b[0m\u001b[0;34m\u001b[0m\u001b[0;34m\u001b[0m\u001b[0m\n\u001b[0m",
            "\u001b[0;31mAttributeError\u001b[0m: module 'sys' has no attribute 'integer_info'"
          ]
        }
      ]
    },
    {
      "cell_type": "code",
      "source": [
        "type(2)"
      ],
      "metadata": {
        "colab": {
          "base_uri": "https://localhost:8080/"
        },
        "id": "RFqbowoHAdYO",
        "outputId": "539ad85a-4f64-4853-ef94-18dcf75415d7"
      },
      "execution_count": null,
      "outputs": [
        {
          "output_type": "execute_result",
          "data": {
            "text/plain": [
              "int"
            ]
          },
          "metadata": {},
          "execution_count": 25
        }
      ]
    },
    {
      "cell_type": "code",
      "source": [
        "# Mengkonversi dari int menjadi float\n",
        "float(2)"
      ],
      "metadata": {
        "colab": {
          "base_uri": "https://localhost:8080/"
        },
        "id": "59jw6XGJBNk2",
        "outputId": "7416c876-2fcc-4abf-8ed7-b2af1c446a72"
      },
      "execution_count": null,
      "outputs": [
        {
          "output_type": "execute_result",
          "data": {
            "text/plain": [
              "2.0"
            ]
          },
          "metadata": {},
          "execution_count": 26
        }
      ]
    },
    {
      "cell_type": "code",
      "source": [
        "# Konversi int 2 ke float dan mengecek type nya\n",
        "type(float(2))"
      ],
      "metadata": {
        "colab": {
          "base_uri": "https://localhost:8080/"
        },
        "id": "iLQBNqAtBZeu",
        "outputId": "5f8cafe2-2022-4a00-debc-d98d3e81f77b"
      },
      "execution_count": null,
      "outputs": [
        {
          "output_type": "execute_result",
          "data": {
            "text/plain": [
              "float"
            ]
          },
          "metadata": {},
          "execution_count": 25
        }
      ]
    },
    {
      "cell_type": "code",
      "source": [
        "# Membulatkan bil desimal\n",
        "int(1.1) # Kehilangan 0,1"
      ],
      "metadata": {
        "colab": {
          "base_uri": "https://localhost:8080/"
        },
        "id": "FHN7oXvEBrJR",
        "outputId": "e53222fa-9cd3-4792-b6ac-39912e6f4015"
      },
      "execution_count": null,
      "outputs": [
        {
          "output_type": "execute_result",
          "data": {
            "text/plain": [
              "1"
            ]
          },
          "metadata": {},
          "execution_count": 28
        }
      ]
    },
    {
      "cell_type": "code",
      "source": [
        "# Mengkonversi dari string ke int\n",
        "int('3')"
      ],
      "metadata": {
        "colab": {
          "base_uri": "https://localhost:8080/"
        },
        "id": "wbLgnlXbB7Tg",
        "outputId": "cf4fe4a4-13aa-4ae1-88e7-3f21b875a75c"
      },
      "execution_count": null,
      "outputs": [
        {
          "output_type": "execute_result",
          "data": {
            "text/plain": [
              "3"
            ]
          },
          "metadata": {},
          "execution_count": 29
        }
      ]
    },
    {
      "cell_type": "code",
      "source": [
        "int('1 or 3 people')\n",
        "\n",
        "# Gagal karena ada huruf nya\n"
      ],
      "metadata": {
        "colab": {
          "base_uri": "https://localhost:8080/",
          "height": 141
        },
        "id": "smuvgliACOWV",
        "outputId": "98737492-a22e-43eb-90b8-d5263b1df979"
      },
      "execution_count": null,
      "outputs": [
        {
          "output_type": "error",
          "ename": "ValueError",
          "evalue": "invalid literal for int() with base 10: '1 or 3 people'",
          "traceback": [
            "\u001b[0;31m---------------------------------------------------------------------------\u001b[0m",
            "\u001b[0;31mValueError\u001b[0m                                Traceback (most recent call last)",
            "\u001b[0;32m<ipython-input-30-4b6a5e085ff2>\u001b[0m in \u001b[0;36m<cell line: 1>\u001b[0;34m()\u001b[0m\n\u001b[0;32m----> 1\u001b[0;31m \u001b[0mint\u001b[0m\u001b[0;34m(\u001b[0m\u001b[0;34m'1 or 3 people'\u001b[0m\u001b[0;34m)\u001b[0m\u001b[0;34m\u001b[0m\u001b[0;34m\u001b[0m\u001b[0m\n\u001b[0m",
            "\u001b[0;31mValueError\u001b[0m: invalid literal for int() with base 10: '1 or 3 people'"
          ]
        }
      ]
    },
    {
      "cell_type": "code",
      "source": [
        "float('1.2')"
      ],
      "metadata": {
        "colab": {
          "base_uri": "https://localhost:8080/"
        },
        "id": "4j-jTjzvCoLq",
        "outputId": "93ab056b-452a-49f7-af5e-2dae3c318c9e"
      },
      "execution_count": null,
      "outputs": [
        {
          "output_type": "execute_result",
          "data": {
            "text/plain": [
              "1.2"
            ]
          },
          "metadata": {},
          "execution_count": 32
        }
      ]
    },
    {
      "cell_type": "markdown",
      "source": [
        "## Tipe data Boolean"
      ],
      "metadata": {
        "id": "NkONIgu8C9nN"
      }
    },
    {
      "cell_type": "code",
      "source": [
        "True\n"
      ],
      "metadata": {
        "colab": {
          "base_uri": "https://localhost:8080/"
        },
        "id": "nvKr5uNLDDL9",
        "outputId": "9f5a8c64-1301-4bec-8e6f-f15e16b74e40"
      },
      "execution_count": null,
      "outputs": [
        {
          "output_type": "execute_result",
          "data": {
            "text/plain": [
              "True"
            ]
          },
          "metadata": {},
          "execution_count": 35
        }
      ]
    },
    {
      "cell_type": "code",
      "source": [
        "False"
      ],
      "metadata": {
        "colab": {
          "base_uri": "https://localhost:8080/"
        },
        "id": "pwaoe4a1DLcl",
        "outputId": "b314bf57-6bea-41b3-97f4-83da8978cf15"
      },
      "execution_count": null,
      "outputs": [
        {
          "output_type": "execute_result",
          "data": {
            "text/plain": [
              "False"
            ]
          },
          "metadata": {},
          "execution_count": 36
        }
      ]
    },
    {
      "cell_type": "code",
      "source": [
        "type(True)"
      ],
      "metadata": {
        "colab": {
          "base_uri": "https://localhost:8080/"
        },
        "id": "d-HUIDvnFVEZ",
        "outputId": "14e40518-de26-46ec-e3fd-aafd42831fdd"
      },
      "execution_count": null,
      "outputs": [
        {
          "output_type": "execute_result",
          "data": {
            "text/plain": [
              "bool"
            ]
          },
          "metadata": {},
          "execution_count": 37
        }
      ]
    },
    {
      "cell_type": "code",
      "source": [
        "type(False)"
      ],
      "metadata": {
        "colab": {
          "base_uri": "https://localhost:8080/"
        },
        "id": "iQb1gS_qFZyx",
        "outputId": "c9b6a95a-a293-48ba-8167-eddb8df88944"
      },
      "execution_count": null,
      "outputs": [
        {
          "output_type": "execute_result",
          "data": {
            "text/plain": [
              "bool"
            ]
          },
          "metadata": {},
          "execution_count": 38
        }
      ]
    },
    {
      "cell_type": "code",
      "source": [
        "int(True)"
      ],
      "metadata": {
        "id": "AjzDE1a1FcPS",
        "colab": {
          "base_uri": "https://localhost:8080/"
        },
        "outputId": "6b3bde12-670e-4a72-e617-e3323cfcc04f"
      },
      "execution_count": null,
      "outputs": [
        {
          "output_type": "execute_result",
          "data": {
            "text/plain": [
              "1"
            ]
          },
          "metadata": {},
          "execution_count": 1
        }
      ]
    },
    {
      "cell_type": "code",
      "source": [
        "bool(1)"
      ],
      "metadata": {
        "colab": {
          "base_uri": "https://localhost:8080/"
        },
        "id": "gLTUnA5sOAda",
        "outputId": "e59efb37-8fc8-4982-a52e-b20a8aa2adfc"
      },
      "execution_count": null,
      "outputs": [
        {
          "output_type": "execute_result",
          "data": {
            "text/plain": [
              "True"
            ]
          },
          "metadata": {},
          "execution_count": 2
        }
      ]
    },
    {
      "cell_type": "code",
      "source": [
        "bool(0)"
      ],
      "metadata": {
        "colab": {
          "base_uri": "https://localhost:8080/"
        },
        "id": "jnwDl-qHOFi0",
        "outputId": "315b4d43-c421-4ba0-a21b-0fe63bd343ab"
      },
      "execution_count": null,
      "outputs": [
        {
          "output_type": "execute_result",
          "data": {
            "text/plain": [
              "False"
            ]
          },
          "metadata": {},
          "execution_count": 4
        }
      ]
    },
    {
      "cell_type": "code",
      "source": [
        "float(True)"
      ],
      "metadata": {
        "colab": {
          "base_uri": "https://localhost:8080/"
        },
        "id": "Wtu4gFfLOJpS",
        "outputId": "4f25ad0f-d055-49a6-ef9b-88e097bd8b1a"
      },
      "execution_count": null,
      "outputs": [
        {
          "output_type": "execute_result",
          "data": {
            "text/plain": [
              "1.0"
            ]
          },
          "metadata": {},
          "execution_count": 6
        }
      ]
    },
    {
      "cell_type": "markdown",
      "source": [
        "## Latihan Jenis\""
      ],
      "metadata": {
        "id": "19epOGMQOQQr"
      }
    },
    {
      "cell_type": "code",
      "source": [
        "type(4/2)"
      ],
      "metadata": {
        "colab": {
          "base_uri": "https://localhost:8080/"
        },
        "id": "3S9DjVCeONuJ",
        "outputId": "a23043ed-c36e-4d90-db39-5b984a810873"
      },
      "execution_count": null,
      "outputs": [
        {
          "output_type": "execute_result",
          "data": {
            "text/plain": [
              "float"
            ]
          },
          "metadata": {},
          "execution_count": 8
        }
      ]
    },
    {
      "cell_type": "code",
      "source": [
        "type(4//2)"
      ],
      "metadata": {
        "colab": {
          "base_uri": "https://localhost:8080/"
        },
        "id": "BZq5rR3AOYR1",
        "outputId": "d654545c-3a9d-4ada-f44b-61521ba8b721"
      },
      "execution_count": null,
      "outputs": [
        {
          "output_type": "execute_result",
          "data": {
            "text/plain": [
              "int"
            ]
          },
          "metadata": {},
          "execution_count": 10
        }
      ]
    },
    {
      "cell_type": "markdown",
      "source": [
        "## Ekspresi dan Variabel"
      ],
      "metadata": {
        "id": "5g7OLFUtrB6s"
      }
    },
    {
      "cell_type": "markdown",
      "source": [
        "## Ekspresi"
      ],
      "metadata": {
        "id": "B9AGk5_DgjuT"
      }
    },
    {
      "cell_type": "code",
      "source": [
        "43 + 60 + 16 + 41\n",
        "\n",
        "type(10.55+10.5-5)"
      ],
      "metadata": {
        "colab": {
          "base_uri": "https://localhost:8080/"
        },
        "id": "YTJrezqzrM1-",
        "outputId": "dd400e44-84ab-4c41-b622-f6f6a0430eb7"
      },
      "execution_count": null,
      "outputs": [
        {
          "output_type": "execute_result",
          "data": {
            "text/plain": [
              "float"
            ]
          },
          "metadata": {},
          "execution_count": 1
        }
      ]
    },
    {
      "cell_type": "code",
      "source": [
        "type(50 - 60)"
      ],
      "metadata": {
        "colab": {
          "base_uri": "https://localhost:8080/"
        },
        "id": "hCzVnQFFOfQq",
        "outputId": "d16831dc-8a3c-4de9-d082-4b70fc9d3977"
      },
      "execution_count": null,
      "outputs": [
        {
          "output_type": "execute_result",
          "data": {
            "text/plain": [
              "int"
            ]
          },
          "metadata": {},
          "execution_count": 1
        }
      ]
    },
    {
      "cell_type": "code",
      "source": [
        "5 * 5"
      ],
      "metadata": {
        "colab": {
          "base_uri": "https://localhost:8080/"
        },
        "id": "nQnuY-ADgvg1",
        "outputId": "7bb4bc91-c5c5-4e91-9b77-281bdd5c3614"
      },
      "execution_count": null,
      "outputs": [
        {
          "output_type": "execute_result",
          "data": {
            "text/plain": [
              "25"
            ]
          },
          "metadata": {},
          "execution_count": 2
        }
      ]
    },
    {
      "cell_type": "code",
      "source": [
        "20 / 4"
      ],
      "metadata": {
        "colab": {
          "base_uri": "https://localhost:8080/"
        },
        "id": "4p2Ysw-DgzTC",
        "outputId": "d558e5bb-aae2-4c26-8c6d-b0f77573cadf"
      },
      "execution_count": null,
      "outputs": [
        {
          "output_type": "execute_result",
          "data": {
            "text/plain": [
              "5.0"
            ]
          },
          "metadata": {},
          "execution_count": 3
        }
      ]
    },
    {
      "cell_type": "code",
      "source": [
        "20 // 4"
      ],
      "metadata": {
        "colab": {
          "base_uri": "https://localhost:8080/"
        },
        "id": "7QATBw3og5h7",
        "outputId": "45853ccd-7379-46b0-bce2-c51761dd4aa9"
      },
      "execution_count": null,
      "outputs": [
        {
          "output_type": "execute_result",
          "data": {
            "text/plain": [
              "5"
            ]
          },
          "metadata": {},
          "execution_count": 4
        }
      ]
    },
    {
      "cell_type": "code",
      "source": [
        "25 // 5"
      ],
      "metadata": {
        "colab": {
          "base_uri": "https://localhost:8080/"
        },
        "id": "KaCrS8ZTg8DZ",
        "outputId": "a3b61776-f336-4096-c29d-3c8fcfac32b3"
      },
      "execution_count": null,
      "outputs": [
        {
          "output_type": "execute_result",
          "data": {
            "text/plain": [
              "5"
            ]
          },
          "metadata": {},
          "execution_count": 5
        }
      ]
    },
    {
      "cell_type": "code",
      "source": [
        "25 // 6"
      ],
      "metadata": {
        "colab": {
          "base_uri": "https://localhost:8080/"
        },
        "id": "Eib_AyGihGHe",
        "outputId": "00efc2bb-ea94-4668-951f-21ce52cf9bfd"
      },
      "execution_count": null,
      "outputs": [
        {
          "output_type": "execute_result",
          "data": {
            "text/plain": [
              "4"
            ]
          },
          "metadata": {},
          "execution_count": 6
        }
      ]
    },
    {
      "cell_type": "markdown",
      "source": [
        "# Latihan Ekspresi"
      ],
      "metadata": {
        "id": "QoSuAcFShNBV"
      }
    },
    {
      "cell_type": "code",
      "source": [
        "160/60"
      ],
      "metadata": {
        "colab": {
          "base_uri": "https://localhost:8080/"
        },
        "id": "0Yt991fUhIHk",
        "outputId": "af589a01-3892-4f1e-8341-5cc56be6b995"
      },
      "execution_count": null,
      "outputs": [
        {
          "output_type": "execute_result",
          "data": {
            "text/plain": [
              "2.6666666666666665"
            ]
          },
          "metadata": {},
          "execution_count": 7
        }
      ]
    },
    {
      "cell_type": "code",
      "source": [
        "30 + 2 * 60 // 10"
      ],
      "metadata": {
        "colab": {
          "base_uri": "https://localhost:8080/"
        },
        "id": "7OptNcLHhcq5",
        "outputId": "254a12cd-9023-4012-e60f-5876ff04bbd9"
      },
      "execution_count": null,
      "outputs": [
        {
          "output_type": "execute_result",
          "data": {
            "text/plain": [
              "42"
            ]
          },
          "metadata": {},
          "execution_count": 8
        }
      ]
    },
    {
      "cell_type": "code",
      "source": [
        "(30+2)*60"
      ],
      "metadata": {
        "colab": {
          "base_uri": "https://localhost:8080/"
        },
        "id": "A9x608jGh0LR",
        "outputId": "11cc2fbd-748d-45e5-e9cf-f40c4838c05f"
      },
      "execution_count": null,
      "outputs": [
        {
          "output_type": "execute_result",
          "data": {
            "text/plain": [
              "1920"
            ]
          },
          "metadata": {},
          "execution_count": 9
        }
      ]
    },
    {
      "cell_type": "markdown",
      "source": [
        "# Variabel"
      ],
      "metadata": {
        "id": "G9Gj-V8GiBGv"
      }
    },
    {
      "cell_type": "code",
      "source": [
        "x = 21 + 22 + 23 + 24\n",
        "x"
      ],
      "metadata": {
        "colab": {
          "base_uri": "https://localhost:8080/"
        },
        "id": "73dSefqNiE2K",
        "outputId": "f5c068e3-dcc3-43cf-d1fe-dc7705611d0e"
      },
      "execution_count": null,
      "outputs": [
        {
          "output_type": "execute_result",
          "data": {
            "text/plain": [
              "90"
            ]
          },
          "metadata": {},
          "execution_count": 12
        }
      ]
    },
    {
      "cell_type": "code",
      "source": [
        "y = x / 60\n",
        "y"
      ],
      "metadata": {
        "colab": {
          "base_uri": "https://localhost:8080/"
        },
        "id": "qmo7IU-CiZ-5",
        "outputId": "02ff41b6-b902-4578-f0d1-5b7fda37d4f5"
      },
      "execution_count": null,
      "outputs": [
        {
          "output_type": "execute_result",
          "data": {
            "text/plain": [
              "1.5"
            ]
          },
          "metadata": {},
          "execution_count": 13
        }
      ]
    },
    {
      "cell_type": "code",
      "source": [
        "x = x / 60\n",
        "print(x)"
      ],
      "metadata": {
        "colab": {
          "base_uri": "https://localhost:8080/"
        },
        "id": "SQr_0vgih94Y",
        "outputId": "1fff37d6-453f-4b11-d805-61014546b15f"
      },
      "execution_count": null,
      "outputs": [
        {
          "output_type": "stream",
          "name": "stdout",
          "text": [
            "1.5\n"
          ]
        }
      ]
    },
    {
      "cell_type": "code",
      "source": [
        "nilai_sd = 43 + 42 + 40 + 20\n",
        "nilai_sd"
      ],
      "metadata": {
        "colab": {
          "base_uri": "https://localhost:8080/"
        },
        "id": "7CK3G4v9jYMv",
        "outputId": "725c9d7d-5bb9-4ec0-a748-ffde25ffa9b0"
      },
      "execution_count": null,
      "outputs": [
        {
          "output_type": "execute_result",
          "data": {
            "text/plain": [
              "145"
            ]
          },
          "metadata": {},
          "execution_count": 15
        }
      ]
    },
    {
      "cell_type": "code",
      "source": [
        "rata2_nilai = nilai_sd / 4\n",
        "rata2_nilai"
      ],
      "metadata": {
        "colab": {
          "base_uri": "https://localhost:8080/"
        },
        "id": "GVVTLoALkBhf",
        "outputId": "f60a7b07-1591-4807-e390-79d5f5c61c04"
      },
      "execution_count": null,
      "outputs": [
        {
          "output_type": "execute_result",
          "data": {
            "text/plain": [
              "36.25"
            ]
          },
          "metadata": {},
          "execution_count": 16
        }
      ]
    },
    {
      "cell_type": "code",
      "source": [
        "rata2_nilai = (43 + 42 + 20 + 40) / 4\n",
        "rata2_nilai\n"
      ],
      "metadata": {
        "colab": {
          "base_uri": "https://localhost:8080/"
        },
        "id": "uvz8wh5xSof6",
        "outputId": "057b65d0-7a8a-4f89-8b3f-728f8f36ec57"
      },
      "execution_count": null,
      "outputs": [
        {
          "output_type": "execute_result",
          "data": {
            "text/plain": [
              "36.25"
            ]
          },
          "metadata": {},
          "execution_count": 1
        }
      ]
    },
    {
      "cell_type": "markdown",
      "source": [
        "### Latihan Ekspresi dan Variabel"
      ],
      "metadata": {
        "id": "8MRvOX-ZSiu6"
      }
    },
    {
      "cell_type": "code",
      "source": [
        "x = 3 + 2 * 2\n",
        "x\n"
      ],
      "metadata": {
        "id": "l7_NdMIBkWwr",
        "colab": {
          "base_uri": "https://localhost:8080/"
        },
        "outputId": "d79b1a51-7950-4863-f158-75843d273fd3"
      },
      "execution_count": null,
      "outputs": [
        {
          "output_type": "execute_result",
          "data": {
            "text/plain": [
              "7"
            ]
          },
          "metadata": {},
          "execution_count": 2
        }
      ]
    },
    {
      "cell_type": "code",
      "source": [
        "y = (3 + 2) * 2\n",
        "y\n"
      ],
      "metadata": {
        "colab": {
          "base_uri": "https://localhost:8080/"
        },
        "id": "EmmTqORjTg5P",
        "outputId": "20c2b5ef-094c-4467-d74a-c24ac1e1c548"
      },
      "execution_count": null,
      "outputs": [
        {
          "output_type": "execute_result",
          "data": {
            "text/plain": [
              "10"
            ]
          },
          "metadata": {},
          "execution_count": 3
        }
      ]
    },
    {
      "cell_type": "code",
      "source": [
        "z = x + y\n",
        "z"
      ],
      "metadata": {
        "colab": {
          "base_uri": "https://localhost:8080/"
        },
        "id": "_2BIBR_WT9iQ",
        "outputId": "792eb641-a20d-4f9a-dce1-0299e3824e66"
      },
      "execution_count": null,
      "outputs": [
        {
          "output_type": "execute_result",
          "data": {
            "text/plain": [
              "17"
            ]
          },
          "metadata": {},
          "execution_count": 4
        }
      ]
    },
    {
      "cell_type": "markdown",
      "source": [
        "### Latihan Mingguan 1"
      ],
      "metadata": {
        "id": "KtjXObW-UFmT"
      }
    },
    {
      "cell_type": "code",
      "source": [
        "panjang  = 20.5\n",
        "\n",
        "lebar    = 25\n",
        "\n",
        "tinggi   = 10\n",
        "\n",
        "keliling = 2 * (panjang + lebar)\n",
        "luas     = panjang *  lebar\n",
        "volume   = panjang * lebar * tinggi\n",
        "\n",
        "print(\"panjang  = \", panjang )\n",
        "print(\"lebar    = \", lebar)\n",
        "print(\"tinggi   = \", tinggi)\n",
        "print(\"keliling = \", keliling)\n",
        "print(\"volume   = \", volume)"
      ],
      "metadata": {
        "colab": {
          "base_uri": "https://localhost:8080/"
        },
        "id": "G9a1ScidUNvz",
        "outputId": "7676411c-885a-4698-85fd-6b5679e5764a"
      },
      "execution_count": null,
      "outputs": [
        {
          "output_type": "stream",
          "name": "stdout",
          "text": [
            "panjang  =  20.5\n",
            "lebar    =  25\n",
            "tinggi   =  10\n",
            "keliling =  91.0\n",
            "volume   =  5125.0\n"
          ]
        }
      ]
    },
    {
      "cell_type": "markdown",
      "source": [
        "### Latihan Mingguan 2"
      ],
      "metadata": {
        "id": "FbV6eGt1gxtN"
      }
    },
    {
      "cell_type": "code",
      "source": [
        "#1. Rata rata nilai Shafira\n",
        "\n",
        "rata2_shafira       = (85 +  75) / 2\n",
        "\n",
        "print(\"Rata rata nilai Shafira                                                  =\", rata2_shafira)\n",
        "\n",
        "#2. Jumlah nilai Hanif dan Andi\n",
        "\n",
        "jumlah_hanif        = (75 + 90)\n",
        "jumlah_andi         = (70 + 75)\n",
        "jumlah_total        = (jumlah_hanif + jumlah_andi)\n",
        "\n",
        "print(\"Jumlah total nilai Hanif dan Andi                                        =\", jumlah_total)\n",
        "\n",
        "#3. Nilai rata rata Widya, Dhanar, Hikma, dan Nedia pada setiap mapel\n",
        "\n",
        "rata2_kalkulus_wdhn = (85 + 85 + 80 + 95) / 4\n",
        "rata2_ms_wdhn       = (85 + 85 + 75 + 80) / 4\n",
        "\n",
        "print(\"Rata rata nilai Kalkulus 1 Widya, Dhanar, Hikma, dan Nedia               =\", rata2_kalkulus_wdhn)\n",
        "print(\"Rata rata nilai Metode Statistika Widya' Dhanar, Hikma, dann Nedia       =\", rata2_ms_wdhn)\n",
        "\n",
        "#4. Rata rata nilai matkul Kalkulus 1 seluruh Mahasiswa\n",
        "\n",
        "rata2_kalkulus1     = (85 + 80 + 75 + 95 + 85 + 75 + 70 + 85 + 80) / 9\n",
        "\n",
        "print(\"Rata rata nilai mata kuliah Kalkulus 1 seluruh Mahasiswa                 =\", rata2_kalkulus1)\n",
        "\n",
        "#5. Rata rata nilai matkul Metode Statistika seluruh Mahasiswa\n",
        "\n",
        "rata2_ms            = (75 + 90 + 80 + 80 + 85 + 90 + 75 + 85 + 75) / 9\n",
        "\n",
        "print(\"Rata rata nilai mata kuliah Metode Statistika seluruh Mahasiswa          =\", rata2_ms)\n",
        "\n"
      ],
      "metadata": {
        "colab": {
          "base_uri": "https://localhost:8080/"
        },
        "id": "NOZaAl9wg2Vc",
        "outputId": "b227d622-1f56-48a8-be1f-58d85bb91145"
      },
      "execution_count": null,
      "outputs": [
        {
          "output_type": "stream",
          "name": "stdout",
          "text": [
            "Rata rata nilai Shafira                                                  = 80.0\n",
            "Jumlah total nilai Hanif dan Andi                                        = 310\n",
            "Rata rata nilai Kalkulus 1 Widya, Dhanar, Hikma, dan Nedia               = 86.25\n",
            "Rata rata nilai Metode Statistika Widya' Dhanar, Hikma, dann Nedia       = 81.25\n",
            "Rata rata nilai mata kuliah Kalkulus 1 seluruh Mahasiswa                 = 81.11111111111111\n",
            "Rata rata nilai mata kuliah Metode Statistika seluruh Mahasiswa          = 81.66666666666667\n"
          ]
        }
      ]
    },
    {
      "cell_type": "markdown",
      "source": [
        "### Latihan Migguan 3"
      ],
      "metadata": {
        "id": "X-XiwMLnuR00"
      }
    },
    {
      "cell_type": "code",
      "source": [
        "# Masukkan data\n",
        "\n",
        "jml_jam_msk        = (8)\n",
        "upah_jam           = (30000)\n",
        "jml_hari           = (31)\n",
        "tidak_msk          = (3)\n",
        "tunjangan          = (10 / 100)\n",
        "upah_lembur        = (10000)\n",
        "jam_lembur         = (5)\n",
        "\n",
        "#1. Gaji bulan Agustus jika tidak masuk 3 hari\n",
        "\n",
        "gaji               = (jml_jam_msk * jml_hari * upah_jam - (tidak_msk *jml_jam_msk * upah_jam) )\n",
        "\n",
        "print(\"Gaji Dwi pada bulan Agustus saat sedang tidak masuk kerja selama 3 hari =\", gaji)\n",
        "\n",
        "#2. Tunjangan Dwi pada bulan Agustus\n",
        "\n",
        "tunjangan_dwi      = (tunjangan * gaji)\n",
        "\n",
        "print(\"Tunjangan yang diterima Dwi pada bulan Agustus                          =\", tunjangan_dwi)\n",
        "\n",
        "#3. Gaji total Dwi setelah ditambah upah lembur\n",
        "\n",
        "gaji_total         = (gaji + upah_lembur * jam_lembur + tunjangan_dwi)\n",
        "\n",
        "print(\"Gaji total yang diterima oleh Dwi pada bulan Agustus                    =\", gaji_total)"
      ],
      "metadata": {
        "colab": {
          "base_uri": "https://localhost:8080/"
        },
        "id": "rMdHeIrGuG3k",
        "outputId": "e3e61eb4-0814-4cba-968f-499f087ea15d"
      },
      "execution_count": null,
      "outputs": [
        {
          "output_type": "stream",
          "name": "stdout",
          "text": [
            "Gaji Dwi pada bulan Agustus saat sedang tidak masuk kerja selama 3 hari = 6720000\n",
            "Tunjangan yang diterima Dwi pada bulan Agustus                          = 672000.0\n",
            "Gaji total yang diterima oleh Dwi pada bulan Agustus                    = 7442000.0\n"
          ]
        }
      ]
    },
    {
      "cell_type": "markdown",
      "source": [],
      "metadata": {
        "id": "UsONIFzQvnge"
      }
    },
    {
      "cell_type": "markdown",
      "source": [],
      "metadata": {
        "id": "oPE1gBlugqBt"
      }
    }
  ]
}